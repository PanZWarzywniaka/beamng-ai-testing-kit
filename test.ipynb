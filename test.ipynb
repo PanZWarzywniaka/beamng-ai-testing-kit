{
 "cells": [
  {
   "cell_type": "code",
   "execution_count": 1,
   "metadata": {},
   "outputs": [],
   "source": [
    "import requests\n",
    "import matplotlib.pyplot as plt\n",
    "import numpy as np\n",
    "from OSMPythonTools.overpass import overpassQueryBuilder, Overpass\n",
    "from pathlib import Path\n",
    "import json\n",
    "from scipy.interpolate import splprep, splev\n",
    "from geopy import distance\n",
    "import beamngpy\n",
    "import uuid"
   ]
  },
  {
   "cell_type": "markdown",
   "metadata": {},
   "source": [
    "# CONSTANTS"
   ]
  },
  {
   "cell_type": "code",
   "execution_count": 2,
   "metadata": {},
   "outputs": [],
   "source": [
    "SIM_ROAD_MINIMAL_HEIGHT = 0\n",
    "DECAL_ROAD_WIDTH = 8\n",
    "MESH_ROAD_WIDTH = DECAL_ROAD_WIDTH * 3\n",
    "MESH_ROAD_DEPTH = 5\n",
    "RISK_VALUE = 0.7\n",
    "MAX_SPEED = 13.411194443293 # 30 miles/hour\n",
    "\n",
    "# level_path = Path(r'C:\\Users\\tupol\\Documents\\BeamNG.tech\\levels\\smallgrid')\n",
    "\n",
    "BEAMNG_HOME_PATH = Path('C:\\\\Users\\\\tupol\\\\Documents\\\\Dissertation\\\\BeamNG.tech.v0.21.3.0')\n",
    "BEAMNG_USER_PATH = Path('C:\\\\Users\\\\tupol\\\\Documents\\\\Dissertation\\\\beamng_user\\\\0.21')\n",
    "LEVEL_NAME = \"smallgrid\" \n",
    "PARENT_DIRECTORY = \"Roads\"\n",
    "\n",
    "SHEFFIELD_BBOX = [53.356987, -1.510101, 53.402656, -1.433196]\n",
    "KETY_BBOX = [49.839258, 19.153293, 49.920978, 19.305325]\n",
    "KRAKOW_BBOX = [49.973493, 19.807804, 50.123627, 20.097225]\n"
   ]
  },
  {
   "cell_type": "markdown",
   "metadata": {},
   "source": [
    "### CHOOSE STREET"
   ]
  },
  {
   "cell_type": "code",
   "execution_count": 3,
   "metadata": {},
   "outputs": [],
   "source": [
    "# street_name = \"Abney Street\"\n",
    "# bbox = SHEFFIELD_BBOX\n",
    "street_name = \"Czaniecka\"\n",
    "bbox = KETY_BBOX"
   ]
  },
  {
   "cell_type": "markdown",
   "metadata": {},
   "source": [
    "# GEO DATA"
   ]
  },
  {
   "cell_type": "code",
   "execution_count": 4,
   "metadata": {},
   "outputs": [],
   "source": [
    "def enrich_with_elevation(points, dataset=\"eudem25m\"):\n",
    "    \n",
    "    points_str = [f\"{lat},{lon}\" for lon, lat in points]\n",
    "    locations = \"|\".join(points_str)\n",
    "    response = requests.get(f\"https://api.opentopodata.org/v1/{dataset}?locations={locations}\")\n",
    "    elevations = [p['elevation'] for p in response.json()['results']]\n",
    "\n",
    "    lons = [x for (x,_) in points]\n",
    "    lats = [y for (_,y) in points]\n",
    "\n",
    "    ret = zip(lons, lats, elevations)\n",
    "    return list(ret)\n",
    "    \n",
    "def get_street_points(street_name,bbox):\n",
    "    overpass = Overpass()\n",
    "    query = overpassQueryBuilder(bbox=bbox,\n",
    "    elementType='way',selector=f'\"name\"=\"{street_name}\"')\n",
    "\n",
    "    road_points = []\n",
    "    for e in overpass.query(query).elements():\n",
    "        for node in e.nodes():\n",
    "            road_points.append((node.lon(), node.lat()))\n",
    "\n",
    "    \n",
    "\n",
    "    road_points = enrich_with_elevation(road_points)\n",
    "    return road_points\n"
   ]
  },
  {
   "cell_type": "code",
   "execution_count": 5,
   "metadata": {},
   "outputs": [
    {
     "name": "stdout",
     "output_type": "stream",
     "text": [
      "[(19.257576, 49.8622271, 319.13616943359375), (19.2576442, 49.8623352, 318.88177490234375), (19.2577738, 49.8626507, 317.9229736328125), (19.2578349, 49.8629234, 316.8909912109375), (19.2578477, 49.8630905, 316.21990966796875), (19.2578269, 49.863242, 315.61163330078125), (19.2576378, 49.8638651, 313.501220703125), (19.2576076, 49.8640435, 313.29254150390625), (19.2576014, 49.8646039, 314.5698547363281), (19.2576184, 49.8649705, 314.90338134765625), (19.2575971, 49.865054, 314.7142639160156), (19.2575328, 49.8651341, 314.4497375488281), (19.2574267, 49.8651919, 314.0150451660156), (19.2571815, 49.8652445, 313.13604736328125), (19.2567054, 49.8653025, 311.5503234863281), (19.2564297, 49.8653302, 310.6714782714844), (19.2562537, 49.8653713, 310.0884704589844), (19.2561541, 49.8654394, 309.7017822265625), (19.2560951, 49.8655154, 309.447509765625), (19.2560676, 49.8656287, 309.22271728515625), (19.256082, 49.8663528, 308.3063049316406), (19.2561104, 49.8665442, 308.07684326171875), (19.25618, 49.8667315, 307.9302978515625), (19.2564248, 49.8672633, 307.5971374511719), (19.2566016, 49.8676657, 306.7442932128906), (19.2566737, 49.8678768, 305.9874267578125), (19.2567245, 49.8680671, 305.2688903808594), (19.2569225, 49.8689035, 302.0142517089844), (19.2570579, 49.8694768, 299.5033874511719), (19.2570757, 49.8696506, 298.5273132324219), (19.2570601, 49.8697301, 298.04840087890625), (19.2569927, 49.8698038, 297.543701171875), (19.2568614, 49.869854, 297.1907653808594), (19.2565842, 49.8699173, 296.8989562988281), (19.2564488, 49.8699553, 296.9752197265625), (19.2563686, 49.8700099, 296.8963928222656)]\n"
     ]
    }
   ],
   "source": [
    "geo_points = get_street_points(street_name, bbox)\n",
    "print(geo_points)"
   ]
  },
  {
   "cell_type": "markdown",
   "metadata": {},
   "source": [
    "# CONVERTING TO BEAMNG COORDINATE SYSTEM"
   ]
  },
  {
   "cell_type": "code",
   "execution_count": 6,
   "metadata": {},
   "outputs": [],
   "source": [
    "def middle(points):\n",
    "    return (max(points) + min(points)) / 2\n",
    "\n",
    "\n",
    "def _geo_to_simulation_points(geo_points):\n",
    "\n",
    "\n",
    "    # SIM_ROAD_MINIMAL_HEIGHT = 1\n",
    "\n",
    "    lons = [x for x,_,_ in geo_points] #geo x's\n",
    "    lats = [y for _,y,_ in geo_points] #geo y's\n",
    "    els = [z for _,_,z in geo_points] \n",
    "\n",
    "    geo_center = np.array((middle(lons), middle(lats)))\n",
    "    z_offset = min(els)\n",
    "    sim_points = []\n",
    "\n",
    "    for x, y, z in geo_points:\n",
    "        geo_point = np.array([x,y])\n",
    "\n",
    "        relative_to_geo_center = geo_point-geo_center\n",
    "        dist = distance.distance(geo_center, geo_point).m\n",
    "        theta = distance.atan2(relative_to_geo_center[1], relative_to_geo_center[0])\n",
    "\n",
    "        sim_x = dist * np.cos(theta)\n",
    "        sim_y = dist * np.sin(theta)\n",
    "        \n",
    "        sim_z = z-z_offset+SIM_ROAD_MINIMAL_HEIGHT\n",
    "\n",
    "        sim_points.append((sim_x, sim_y, sim_z))\n",
    "\n",
    "    return sim_points"
   ]
  },
  {
   "cell_type": "code",
   "execution_count": 7,
   "metadata": {},
   "outputs": [],
   "source": [
    "def _get_simulation_size(points):\n",
    "    points = np.array(points)\n",
    "    xs = points[:, 0]\n",
    "    ys = points[:, 1]\n",
    "    x_range = np.max(xs)-np.max(xs)\n",
    "    y_range = np.max(ys)-np.max(ys)\n",
    "    sim_size = max(x_range, y_range)\n",
    "\n",
    "    return sim_size"
   ]
  },
  {
   "cell_type": "code",
   "execution_count": 8,
   "metadata": {},
   "outputs": [],
   "source": [
    "sim_points = _geo_to_simulation_points(geo_points)\n",
    "sim_size = _get_simulation_size(sim_points)"
   ]
  },
  {
   "cell_type": "code",
   "execution_count": 9,
   "metadata": {},
   "outputs": [],
   "source": [
    "def _recenter_points(points):\n",
    "    points = np.array(points)\n",
    "    points[:, 0:2] += sim_size/2 # x and y values\n",
    "    return points\n"
   ]
  },
  {
   "cell_type": "code",
   "execution_count": 10,
   "metadata": {},
   "outputs": [],
   "source": [
    "\n",
    "sim_points = _recenter_points(sim_points)"
   ]
  },
  {
   "cell_type": "markdown",
   "metadata": {},
   "source": [
    "# INTERPOLATE POINTS"
   ]
  },
  {
   "cell_type": "code",
   "execution_count": 11,
   "metadata": {},
   "outputs": [],
   "source": [
    "def interpolate(points):\n",
    "    \n",
    "    SPLINE_DEGREE = 2\n",
    "    INTERPOLATED_POINTS_FOR_EACH_POINT = 10\n",
    "    \n",
    "    pos_tck, _ = splprep(points.T, s=1, k=SPLINE_DEGREE)\n",
    "\n",
    "    N_POINTS = points.shape[0] * INTERPOLATED_POINTS_FOR_EACH_POINT\n",
    "    unew = np.linspace(0, 1, N_POINTS)\n",
    "\n",
    "    interpolated = splev(unew, pos_tck) #retured as list of ND arrays\n",
    "    return np.array(interpolated).T\n",
    "\n"
   ]
  },
  {
   "cell_type": "code",
   "execution_count": 12,
   "metadata": {},
   "outputs": [
    {
     "data": {
      "text/plain": [
       "(360, 3)"
      ]
     },
     "execution_count": 12,
     "metadata": {},
     "output_type": "execute_result"
    }
   ],
   "source": [
    "sim_points = interpolate(sim_points)\n",
    "sim_points.shape"
   ]
  },
  {
   "cell_type": "markdown",
   "metadata": {},
   "source": [
    "# WRITE TO SCENARIO TEMPLATE"
   ]
  },
  {
   "cell_type": "markdown",
   "metadata": {},
   "source": [
    "### READ ROAD DATA FROM SCENARIO"
   ]
  },
  {
   "cell_type": "code",
   "execution_count": 13,
   "metadata": {},
   "outputs": [
    {
     "name": "stdout",
     "output_type": "stream",
     "text": [
      "C:\\Users\\tupol\\Documents\\Dissertation\\beamng_user\\0.21\\levels\\smallgrid\\main\\MissionGroup\\Roads\\items.level.json\n"
     ]
    }
   ],
   "source": [
    "road_file_path = BEAMNG_USER_PATH / 'levels' / LEVEL_NAME / 'main' / 'MissionGroup' / 'Roads' / 'items.level.json'\n",
    "print(road_file_path)\n",
    "with open(road_file_path, \"r\") as f:\n",
    "    decal_road_data = json.loads(f.readline())\n",
    "    mesh_road_data = json.loads(f.readline())\n",
    "\n",
    "\n",
    "assert decal_road_data['class'] == 'DecalRoad', \"Invalid decal road data\"\n",
    "assert mesh_road_data['class'] == 'MeshRoad', \"Invalid mesh road data\""
   ]
  },
  {
   "cell_type": "markdown",
   "metadata": {},
   "source": [
    "### PREPARE NEW DECAL ROAD NODES"
   ]
  },
  {
   "cell_type": "code",
   "execution_count": 14,
   "metadata": {},
   "outputs": [],
   "source": [
    "n_points = sim_points.shape[0]\n",
    "\n",
    "suffix = np.array([DECAL_ROAD_WIDTH])\n",
    "\n",
    "#append road width\n",
    "suffix_matrix = np.tile(suffix, (n_points, 1))\n",
    "decal_new_nodes = np.hstack((sim_points, suffix_matrix)).tolist()\n",
    "\n",
    "# decal_new_nodes"
   ]
  },
  {
   "cell_type": "code",
   "execution_count": 15,
   "metadata": {},
   "outputs": [],
   "source": [
    "decal_road_data['nodes'] = decal_new_nodes"
   ]
  },
  {
   "cell_type": "markdown",
   "metadata": {},
   "source": [
    "### PREPARE NEW MESH ROD NODES"
   ]
  },
  {
   "cell_type": "code",
   "execution_count": 16,
   "metadata": {},
   "outputs": [],
   "source": [
    "suffix = np.array([MESH_ROAD_WIDTH, MESH_ROAD_DEPTH, 0, 0, 1])\n",
    "\n",
    "n_points = sim_points.shape[0]\n",
    "\n",
    "#repeat suffix data for each node\n",
    "suffix_matrix = np.tile(suffix, (n_points, 1))\n",
    "\n",
    "#append every node with suffix data\n",
    "mesh_new_nodes = np.hstack((sim_points, suffix_matrix)).tolist()"
   ]
  },
  {
   "cell_type": "code",
   "execution_count": 17,
   "metadata": {},
   "outputs": [],
   "source": [
    "mesh_road_data['nodes'] = mesh_new_nodes"
   ]
  },
  {
   "cell_type": "markdown",
   "metadata": {},
   "source": [
    "### SET WAYPOINT"
   ]
  },
  {
   "cell_type": "code",
   "execution_count": 18,
   "metadata": {},
   "outputs": [],
   "source": [
    "goal_waypoint_data = {\n",
    "    'name': 'GoalWaypoint',\n",
    "    'class': 'BeamNGWaypoint',\n",
    "    'persistentId': str(uuid.uuid4()),\n",
    "    '__parent': 'Roads',\n",
    "    'position': list(sim_points[-1]),\n",
    "    'scale': [DECAL_ROAD_WIDTH]*3, #x y z size\n",
    "}\n"
   ]
  },
  {
   "cell_type": "markdown",
   "metadata": {},
   "source": [
    "### WRITE NEW ROAD NODES TO FILE"
   ]
  },
  {
   "cell_type": "code",
   "execution_count": 19,
   "metadata": {},
   "outputs": [],
   "source": [
    "def write_json(json_data, file_handler):\n",
    "    json.dump(json_data, file_handler) #dump json in one line\n",
    "    file_handler.write(\"\\n\") #go to new line"
   ]
  },
  {
   "cell_type": "code",
   "execution_count": 20,
   "metadata": {},
   "outputs": [],
   "source": [
    "with open(road_file_path, 'w') as f:\n",
    "    write_json(decal_road_data, f)\n",
    "    write_json(mesh_road_data, f)\n",
    "    write_json(goal_waypoint_data, f)\n",
    "    "
   ]
  },
  {
   "cell_type": "markdown",
   "metadata": {},
   "source": [
    "# TEST ON BEAMNG"
   ]
  },
  {
   "cell_type": "markdown",
   "metadata": {},
   "source": [
    "### BRING UP BEAMNG"
   ]
  },
  {
   "cell_type": "code",
   "execution_count": 28,
   "metadata": {},
   "outputs": [
    {
     "data": {
      "text/plain": [
       "<beamngpy.beamng.BeamNGpy at 0x19bdaf00888>"
      ]
     },
     "execution_count": 28,
     "metadata": {},
     "output_type": "execute_result"
    }
   ],
   "source": [
    "from beamngpy import BeamNGpy, Scenario, Vehicle\n",
    "\n",
    "# Instantiate BeamNGpy instance running the simulator from the given path,\n",
    "# communicating over localhost:64256\n",
    "bng = BeamNGpy('localhost', 64256, home=BEAMNG_HOME_PATH, user=BEAMNG_USER_PATH)\n",
    "# Launch BeamNG.tech\n",
    "bng.open(launch=True)"
   ]
  },
  {
   "cell_type": "markdown",
   "metadata": {},
   "source": [
    "### CREATE SCENATIO"
   ]
  },
  {
   "cell_type": "code",
   "execution_count": 22,
   "metadata": {},
   "outputs": [],
   "source": [
    "def calc_point_edges(p1, p2):\n",
    "    \n",
    "    height = p1[2]\n",
    "    origin = np.array(p1[0:2])\n",
    "    next = np.array(p2[0:2])\n",
    "\n",
    "    direction_v = np.subtract(next, origin)\n",
    "\n",
    "    # calculate the vector which length is half the road width\n",
    "    v = (direction_v / np.linalg.norm(direction_v)) * DECAL_ROAD_WIDTH / 2\n",
    "    # add normal vectors\n",
    "    left_point = origin + np.array([-v[1], v[0]])\n",
    "    right_point = origin + np.array([v[1], -v[0]])\n",
    "\n",
    "    #add origin height\n",
    "    left_point = np.append(left_point, height)\n",
    "    right_point = np.append(right_point, height)\n",
    "\n",
    "    return left_point, right_point"
   ]
  },
  {
   "cell_type": "code",
   "execution_count": 23,
   "metadata": {},
   "outputs": [],
   "source": [
    "def vehicle_start_pose(meters_from_road_start=2.5):\n",
    "\n",
    "    p1 = sim_points[0]\n",
    "    p2 = sim_points[1]\n",
    "\n",
    "    _, p1r = calc_point_edges(p1, p2)\n",
    "    p1r = p1r[0:2]\n",
    "\n",
    "    \n",
    "    direction = np.subtract(p2[0:2], p1[0:2])\n",
    "    v = (direction / np.linalg.norm(direction)) * meters_from_road_start\n",
    "    middle_of_lane = np.add(p1[0:2], p1r[0:2]) / 2 #making car spawn in the middle of right lane\n",
    "    deg = np.degrees(np.arctan2([-v[0]], [-v[1]]))\n",
    "    rot = (0, 0, deg[0])\n",
    "    pos = tuple(middle_of_lane + v) + (p1[2],)\n",
    "\n",
    "    return pos, rot\n"
   ]
  },
  {
   "cell_type": "code",
   "execution_count": 29,
   "metadata": {},
   "outputs": [],
   "source": [
    "beamngpy.logging.basicConfig(filename=\"beamng.log\")\n",
    "vehicle = Vehicle('car', model='etk800', licence='OSM Testing', color='Blue')\n",
    "# Create a scenario in smallgrid called 'osm_testing'\n",
    "scenario = Scenario('smallgrid', 'osm_testing')\n",
    "\n",
    "# Add it to our scenario at this position and rotation\n",
    "\n",
    "\n",
    "pos, rot = vehicle_start_pose()\n",
    "\n",
    "scenario.add_vehicle(vehicle, pos=pos, rot=rot)\n",
    "# Place files defining our scenario for the simulator to read\n",
    "scenario.make(bng)\n",
    "\n",
    "bng.load_scenario(scenario)\n",
    "try:\n",
    "    scenario.start()\n",
    "except Exception:\n",
    "    pass"
   ]
  },
  {
   "cell_type": "code",
   "execution_count": 25,
   "metadata": {},
   "outputs": [],
   "source": [
    "vehicle.ai_set_aggression(RISK_VALUE)\n",
    "vehicle.ai_set_speed(1000, mode='limit')\n",
    "vehicle.ai_drive_in_lane(True)\n",
    "vehicle.ai_set_waypoint(goal_waypoint_data[\"name\"])"
   ]
  },
  {
   "cell_type": "code",
   "execution_count": 30,
   "metadata": {},
   "outputs": [],
   "source": [
    "bng.close()"
   ]
  },
  {
   "cell_type": "code",
   "execution_count": null,
   "metadata": {},
   "outputs": [],
   "source": []
  },
  {
   "cell_type": "code",
   "execution_count": null,
   "metadata": {},
   "outputs": [],
   "source": []
  }
 ],
 "metadata": {
  "kernelspec": {
   "display_name": "Python 3",
   "language": "python",
   "name": "python3"
  },
  "language_info": {
   "codemirror_mode": {
    "name": "ipython",
    "version": 3
   },
   "file_extension": ".py",
   "mimetype": "text/x-python",
   "name": "python",
   "nbconvert_exporter": "python",
   "pygments_lexer": "ipython3",
   "version": "3.7.9"
  },
  "orig_nbformat": 4
 },
 "nbformat": 4,
 "nbformat_minor": 2
}
