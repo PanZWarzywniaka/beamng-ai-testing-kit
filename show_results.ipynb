{
 "cells": [
  {
   "cell_type": "code",
   "execution_count": 415,
   "metadata": {},
   "outputs": [],
   "source": [
    "import json\n",
    "from pathlib import Path\n",
    "import numpy as np\n",
    "import pandas as pd\n",
    "import os"
   ]
  },
  {
   "cell_type": "code",
   "execution_count": 416,
   "metadata": {},
   "outputs": [],
   "source": [
    "def oob_score(execution_data: dict) -> float:\n",
    "    if not execution_data['success']:\n",
    "        return -1\n",
    "    \n",
    "    oobs = execution_data['out_of_bounds']\n",
    "    length = execution_data['length']\n",
    "    OOBS_RATION_VALUE = 100\n",
    "    score = (sum(oobs) / length) * OOBS_RATION_VALUE\n",
    "    return score"
   ]
  },
  {
   "cell_type": "code",
   "execution_count": 417,
   "metadata": {},
   "outputs": [],
   "source": [
    "def avg_velocity(execution_data: dict) -> float:\n",
    "    vel_array = execution_data['velocity']\n",
    "\n",
    "    velocities = [np.linalg.norm(vel) for vel in vel_array]\n",
    "    return np.mean(velocities)"
   ]
  },
  {
   "cell_type": "code",
   "execution_count": 418,
   "metadata": {},
   "outputs": [],
   "source": [
    "RESULTS_PATH = Path('results')\n",
    "osm_results = RESULTS_PATH / 'osm'\n",
    "ga_results = RESULTS_PATH / 'ga'"
   ]
  },
  {
   "cell_type": "code",
   "execution_count": 419,
   "metadata": {},
   "outputs": [],
   "source": [
    "def parse_execution_data(data_file: Path):\n",
    "    with open(data_file, \"r\") as f:\n",
    "        x = json.load(f)\n",
    "    \n",
    "    return [\n",
    "        x['name'],\n",
    "        x['length'],\n",
    "        x['n_points'],\n",
    "        x['success'],\n",
    "        oob_score(x),\n",
    "        avg_velocity(x),\n",
    "    ]"
   ]
  },
  {
   "cell_type": "code",
   "execution_count": 420,
   "metadata": {},
   "outputs": [],
   "source": [
    "df_data = []\n",
    "for item in osm_results.iterdir():\n",
    "    if item.suffix == \".json\":\n",
    "        df_data.append(parse_execution_data(item))"
   ]
  },
  {
   "cell_type": "code",
   "execution_count": 421,
   "metadata": {},
   "outputs": [
    {
     "data": {
      "text/plain": [
       "0      True\n",
       "1     False\n",
       "2      True\n",
       "3      True\n",
       "4      True\n",
       "      ...  \n",
       "92     True\n",
       "93     True\n",
       "94    False\n",
       "95     True\n",
       "96     True\n",
       "Name: Success, Length: 97, dtype: bool"
      ]
     },
     "execution_count": 421,
     "metadata": {},
     "output_type": "execute_result"
    }
   ],
   "source": [
    "df = pd.DataFrame(df_data, \n",
    "                  columns=['Name', 'Length', \"N Points\", \"Success\", \"OOB Score\", \"AVG Velocity\"])\n",
    "df[\"Success\"]"
   ]
  },
  {
   "cell_type": "code",
   "execution_count": 422,
   "metadata": {},
   "outputs": [
    {
     "data": {
      "text/html": [
       "<div>\n",
       "<style scoped>\n",
       "    .dataframe tbody tr th:only-of-type {\n",
       "        vertical-align: middle;\n",
       "    }\n",
       "\n",
       "    .dataframe tbody tr th {\n",
       "        vertical-align: top;\n",
       "    }\n",
       "\n",
       "    .dataframe thead th {\n",
       "        text-align: right;\n",
       "    }\n",
       "</style>\n",
       "<table border=\"1\" class=\"dataframe\">\n",
       "  <thead>\n",
       "    <tr style=\"text-align: right;\">\n",
       "      <th></th>\n",
       "      <th>Name</th>\n",
       "      <th>Length</th>\n",
       "      <th>N Points</th>\n",
       "      <th>OOB Score</th>\n",
       "      <th>AVG Velocity</th>\n",
       "    </tr>\n",
       "  </thead>\n",
       "  <tbody>\n",
       "    <tr>\n",
       "      <th>89</th>\n",
       "      <td>Wessenden Close</td>\n",
       "      <td>70.552831</td>\n",
       "      <td>6</td>\n",
       "      <td>0.031614</td>\n",
       "      <td>6.373897</td>\n",
       "    </tr>\n",
       "    <tr>\n",
       "      <th>90</th>\n",
       "      <td>Whinby Croft</td>\n",
       "      <td>51.898842</td>\n",
       "      <td>4</td>\n",
       "      <td>0.000000</td>\n",
       "      <td>5.453781</td>\n",
       "    </tr>\n",
       "    <tr>\n",
       "      <th>91</th>\n",
       "      <td>Whitehead Close</td>\n",
       "      <td>94.809774</td>\n",
       "      <td>16</td>\n",
       "      <td>0.375775</td>\n",
       "      <td>8.663797</td>\n",
       "    </tr>\n",
       "    <tr>\n",
       "      <th>92</th>\n",
       "      <td>Whitehill Avenue</td>\n",
       "      <td>148.173819</td>\n",
       "      <td>8</td>\n",
       "      <td>0.000000</td>\n",
       "      <td>11.621581</td>\n",
       "    </tr>\n",
       "    <tr>\n",
       "      <th>93</th>\n",
       "      <td>Wincanton Close</td>\n",
       "      <td>93.743375</td>\n",
       "      <td>6</td>\n",
       "      <td>0.148915</td>\n",
       "      <td>6.345864</td>\n",
       "    </tr>\n",
       "    <tr>\n",
       "      <th>94</th>\n",
       "      <td>Winn Drive</td>\n",
       "      <td>116.574514</td>\n",
       "      <td>30</td>\n",
       "      <td>-1.000000</td>\n",
       "      <td>1.662593</td>\n",
       "    </tr>\n",
       "    <tr>\n",
       "      <th>95</th>\n",
       "      <td>Wordsworth Road</td>\n",
       "      <td>132.757307</td>\n",
       "      <td>16</td>\n",
       "      <td>0.000000</td>\n",
       "      <td>8.541508</td>\n",
       "    </tr>\n",
       "    <tr>\n",
       "      <th>96</th>\n",
       "      <td>Wyn Grove</td>\n",
       "      <td>64.775826</td>\n",
       "      <td>12</td>\n",
       "      <td>0.000000</td>\n",
       "      <td>6.286640</td>\n",
       "    </tr>\n",
       "  </tbody>\n",
       "</table>\n",
       "</div>"
      ],
      "text/plain": [
       "                Name      Length  N Points  OOB Score  AVG Velocity\n",
       "89   Wessenden Close   70.552831         6   0.031614      6.373897\n",
       "90      Whinby Croft   51.898842         4   0.000000      5.453781\n",
       "91   Whitehead Close   94.809774        16   0.375775      8.663797\n",
       "92  Whitehill Avenue  148.173819         8   0.000000     11.621581\n",
       "93   Wincanton Close   93.743375         6   0.148915      6.345864\n",
       "94        Winn Drive  116.574514        30  -1.000000      1.662593\n",
       "95   Wordsworth Road  132.757307        16   0.000000      8.541508\n",
       "96         Wyn Grove   64.775826        12   0.000000      6.286640"
      ]
     },
     "execution_count": 422,
     "metadata": {},
     "output_type": "execute_result"
    }
   ],
   "source": [
    "# df = df.sort_values(\"OOB Score\")\n",
    "df[[\"Name\", \"Length\", \"N Points\", \"OOB Score\", \"AVG Velocity\"]].tail(n=8)"
   ]
  },
  {
   "cell_type": "code",
   "execution_count": 423,
   "metadata": {},
   "outputs": [
    {
     "data": {
      "image/png": "[encoded data removed]",
      "text/plain": [
       "<Figure size 640x480 with 1 Axes>"
      ]
     },
     "metadata": {},
     "output_type": "display_data"
    }
   ],
   "source": [
    "import seaborn as sns\n",
    "ax = sns.barplot(data=df.reset_index(), y=\"OOB Score\", x=\"index\")"
   ]
  },
  {
   "cell_type": "code",
   "execution_count": 424,
   "metadata": {},
   "outputs": [],
   "source": [
    "df = df.where(df[\"Success\"])\n"
   ]
  },
  {
   "cell_type": "code",
   "execution_count": 425,
   "metadata": {},
   "outputs": [
    {
     "data": {
      "text/plain": [
       "(97, 6)"
      ]
     },
     "execution_count": 425,
     "metadata": {},
     "output_type": "execute_result"
    },
    {
     "data": {
      "image/png": "[encoded data removed]",
      "text/plain": [
       "<Figure size 640x480 with 1 Axes>"
      ]
     },
     "metadata": {},
     "output_type": "display_data"
    }
   ],
   "source": [
    "\n",
    "ax = df.plot( y='OOB Score', kind=\"bar\",rot=45)\n",
    "ax.set_xticklabels([])\n",
    "df.shape\n",
    "# ax.set_xticklabels()"
   ]
  },
  {
   "cell_type": "code",
   "execution_count": 426,
   "metadata": {},
   "outputs": [],
   "source": [
    "df_data = []\n",
    "for item in ga_results.iterdir():\n",
    "    if item.suffix == \".json\":\n",
    "        df_data.append(parse_execution_data(item))\n",
    "\n",
    "df = pd.DataFrame(df_data, \n",
    "                  columns=['Name', 'Length', \"N Points\", \"Success\", \"OOB Score\", \"AVG Velocity\"])"
   ]
  },
  {
   "cell_type": "code",
   "execution_count": 427,
   "metadata": {},
   "outputs": [
    {
     "data": {
      "text/plain": [
       "(104, 6)"
      ]
     },
     "execution_count": 427,
     "metadata": {},
     "output_type": "execute_result"
    },
    {
     "data": {
      "image/png": "[encoded data removed]",
      "text/plain": [
       "<Figure size 640x480 with 1 Axes>"
      ]
     },
     "metadata": {},
     "output_type": "display_data"
    }
   ],
   "source": [
    "# df = df.sort_values(\"OOB Score\")\n",
    "\n",
    "df.reset_index().plot(x='index', y='OOB Score')\n",
    "df.shape"
   ]
  },
  {
   "cell_type": "code",
   "execution_count": 428,
   "metadata": {},
   "outputs": [
    {
     "data": {
      "text/html": [
       "<div>\n",
       "<style scoped>\n",
       "    .dataframe tbody tr th:only-of-type {\n",
       "        vertical-align: middle;\n",
       "    }\n",
       "\n",
       "    .dataframe tbody tr th {\n",
       "        vertical-align: top;\n",
       "    }\n",
       "\n",
       "    .dataframe thead th {\n",
       "        text-align: right;\n",
       "    }\n",
       "</style>\n",
       "<table border=\"1\" class=\"dataframe\">\n",
       "  <thead>\n",
       "    <tr style=\"text-align: right;\">\n",
       "      <th></th>\n",
       "      <th>Name</th>\n",
       "      <th>Length</th>\n",
       "      <th>N Points</th>\n",
       "      <th>Success</th>\n",
       "      <th>OOB Score</th>\n",
       "      <th>AVG Velocity</th>\n",
       "    </tr>\n",
       "  </thead>\n",
       "  <tbody>\n",
       "    <tr>\n",
       "      <th>99</th>\n",
       "      <td>GA road</td>\n",
       "      <td>127.292753</td>\n",
       "      <td>20</td>\n",
       "      <td>False</td>\n",
       "      <td>-1.000000</td>\n",
       "      <td>0.213777</td>\n",
       "    </tr>\n",
       "    <tr>\n",
       "      <th>100</th>\n",
       "      <td>GA road</td>\n",
       "      <td>125.134719</td>\n",
       "      <td>20</td>\n",
       "      <td>True</td>\n",
       "      <td>4.877659</td>\n",
       "      <td>5.280309</td>\n",
       "    </tr>\n",
       "    <tr>\n",
       "      <th>101</th>\n",
       "      <td>GA road</td>\n",
       "      <td>124.766825</td>\n",
       "      <td>20</td>\n",
       "      <td>True</td>\n",
       "      <td>5.287020</td>\n",
       "      <td>5.177191</td>\n",
       "    </tr>\n",
       "    <tr>\n",
       "      <th>102</th>\n",
       "      <td>GA road</td>\n",
       "      <td>125.844460</td>\n",
       "      <td>20</td>\n",
       "      <td>False</td>\n",
       "      <td>-1.000000</td>\n",
       "      <td>1.212681</td>\n",
       "    </tr>\n",
       "    <tr>\n",
       "      <th>103</th>\n",
       "      <td>GA road</td>\n",
       "      <td>131.374555</td>\n",
       "      <td>20</td>\n",
       "      <td>True</td>\n",
       "      <td>1.681281</td>\n",
       "      <td>5.154999</td>\n",
       "    </tr>\n",
       "  </tbody>\n",
       "</table>\n",
       "</div>"
      ],
      "text/plain": [
       "        Name      Length  N Points  Success  OOB Score  AVG Velocity\n",
       "99   GA road  127.292753        20    False  -1.000000      0.213777\n",
       "100  GA road  125.134719        20     True   4.877659      5.280309\n",
       "101  GA road  124.766825        20     True   5.287020      5.177191\n",
       "102  GA road  125.844460        20    False  -1.000000      1.212681\n",
       "103  GA road  131.374555        20     True   1.681281      5.154999"
      ]
     },
     "execution_count": 428,
     "metadata": {},
     "output_type": "execute_result"
    }
   ],
   "source": [
    "df.tail()"
   ]
  },
  {
   "cell_type": "code",
   "execution_count": null,
   "metadata": {},
   "outputs": [],
   "source": []
  }
 ],
 "metadata": {
  "kernelspec": {
   "display_name": ".venv",
   "language": "python",
   "name": "python3"
  },
  "language_info": {
   "codemirror_mode": {
    "name": "ipython",
    "version": 3
   },
   "file_extension": ".py",
   "mimetype": "text/x-python",
   "name": "python",
   "nbconvert_exporter": "python",
   "pygments_lexer": "ipython3",
   "version": "3.7.9"
  },
  "orig_nbformat": 4
 },
 "nbformat": 4,
 "nbformat_minor": 2
}
