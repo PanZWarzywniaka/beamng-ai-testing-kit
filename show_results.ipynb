{
 "cells": [
  {
   "cell_type": "code",
   "execution_count": 29,
   "metadata": {},
   "outputs": [],
   "source": [
    "import json\n",
    "from pathlib import Path\n",
    "import numpy as np\n",
    "import pandas as pd\n",
    "import os"
   ]
  },
  {
   "cell_type": "code",
   "execution_count": 30,
   "metadata": {},
   "outputs": [],
   "source": [
    "def oob_score(execution_data: dict) -> float:\n",
    "    if not execution_data['success']:\n",
    "        return -1\n",
    "    \n",
    "    oobs = execution_data['out_of_bounds']\n",
    "    length = execution_data['length']\n",
    "    OOBS_RATION_VALUE = 100\n",
    "    score = (sum(oobs) / length) * OOBS_RATION_VALUE\n",
    "    return score"
   ]
  },
  {
   "cell_type": "code",
   "execution_count": 31,
   "metadata": {},
   "outputs": [],
   "source": [
    "def avg_velocity(execution_data: dict) -> float:\n",
    "    vel_array = execution_data['velocity']\n",
    "\n",
    "    velocities = [np.linalg.norm(vel) for vel in vel_array]\n",
    "    return np.mean(velocities)"
   ]
  },
  {
   "cell_type": "code",
   "execution_count": 32,
   "metadata": {},
   "outputs": [],
   "source": [
    "RESULTS_PATH = Path('results')\n",
    "osm_results = RESULTS_PATH / 'osm'\n",
    "ga_results = RESULTS_PATH / 'ga'"
   ]
  },
  {
   "cell_type": "code",
   "execution_count": 33,
   "metadata": {},
   "outputs": [],
   "source": [
    "def parse_execution_data(data_file: Path):\n",
    "    with open(data_file, \"r\") as f:\n",
    "        x = json.load(f)\n",
    "    \n",
    "    return [\n",
    "        x['name'],\n",
    "        x['length'],\n",
    "        x['n_points'],\n",
    "        x['success'],\n",
    "        oob_score(x),\n",
    "        avg_velocity(x),\n",
    "    ]"
   ]
  },
  {
   "cell_type": "code",
   "execution_count": 34,
   "metadata": {},
   "outputs": [],
   "source": [
    "df_data = []\n",
    "for item in osm_results.iterdir():\n",
    "    if item.suffix == \".json\":\n",
    "        df_data.append(parse_execution_data(item))"
   ]
  },
  {
   "cell_type": "code",
   "execution_count": 35,
   "metadata": {},
   "outputs": [],
   "source": [
    "df = pd.DataFrame(df_data, \n",
    "                  columns=['Name', 'Length', \"N Points\", \"Success\", \"OOB Score\", \"AVG Velocity\"])"
   ]
  },
  {
   "cell_type": "code",
   "execution_count": 43,
   "metadata": {},
   "outputs": [
    {
     "data": {
      "text/html": [
       "<div>\n",
       "<style scoped>\n",
       "    .dataframe tbody tr th:only-of-type {\n",
       "        vertical-align: middle;\n",
       "    }\n",
       "\n",
       "    .dataframe tbody tr th {\n",
       "        vertical-align: top;\n",
       "    }\n",
       "\n",
       "    .dataframe thead th {\n",
       "        text-align: right;\n",
       "    }\n",
       "</style>\n",
       "<table border=\"1\" class=\"dataframe\">\n",
       "  <thead>\n",
       "    <tr style=\"text-align: right;\">\n",
       "      <th></th>\n",
       "      <th>Name</th>\n",
       "      <th>Length</th>\n",
       "      <th>N Points</th>\n",
       "      <th>Success</th>\n",
       "      <th>OOB Score</th>\n",
       "      <th>AVG Velocity</th>\n",
       "    </tr>\n",
       "  </thead>\n",
       "  <tbody>\n",
       "    <tr>\n",
       "      <th>23</th>\n",
       "      <td>Elder Grove</td>\n",
       "      <td>111.272756</td>\n",
       "      <td>4</td>\n",
       "      <td>True</td>\n",
       "      <td>7.340583</td>\n",
       "      <td>9.653168</td>\n",
       "    </tr>\n",
       "    <tr>\n",
       "      <th>62</th>\n",
       "      <td>St Pancras Close</td>\n",
       "      <td>83.863936</td>\n",
       "      <td>8</td>\n",
       "      <td>True</td>\n",
       "      <td>8.393022</td>\n",
       "      <td>4.279212</td>\n",
       "    </tr>\n",
       "    <tr>\n",
       "      <th>56</th>\n",
       "      <td>Scarfield Close</td>\n",
       "      <td>95.130916</td>\n",
       "      <td>8</td>\n",
       "      <td>True</td>\n",
       "      <td>8.780162</td>\n",
       "      <td>5.627918</td>\n",
       "    </tr>\n",
       "    <tr>\n",
       "      <th>24</th>\n",
       "      <td>Fieldhead Road</td>\n",
       "      <td>156.762769</td>\n",
       "      <td>12</td>\n",
       "      <td>True</td>\n",
       "      <td>11.324785</td>\n",
       "      <td>11.253184</td>\n",
       "    </tr>\n",
       "    <tr>\n",
       "      <th>59</th>\n",
       "      <td>Shephard's Close</td>\n",
       "      <td>130.716526</td>\n",
       "      <td>4</td>\n",
       "      <td>True</td>\n",
       "      <td>21.665879</td>\n",
       "      <td>10.324787</td>\n",
       "    </tr>\n",
       "  </tbody>\n",
       "</table>\n",
       "</div>"
      ],
      "text/plain": [
       "                Name      Length  N Points  Success  OOB Score  AVG Velocity\n",
       "23       Elder Grove  111.272756         4     True   7.340583      9.653168\n",
       "62  St Pancras Close   83.863936         8     True   8.393022      4.279212\n",
       "56   Scarfield Close   95.130916         8     True   8.780162      5.627918\n",
       "24    Fieldhead Road  156.762769        12     True  11.324785     11.253184\n",
       "59  Shephard's Close  130.716526         4     True  21.665879     10.324787"
      ]
     },
     "execution_count": 43,
     "metadata": {},
     "output_type": "execute_result"
    }
   ],
   "source": [
    "df = df.sort_values(\"OOB Score\")\n",
    "df.tail()"
   ]
  },
  {
   "cell_type": "code",
   "execution_count": 44,
   "metadata": {},
   "outputs": [],
   "source": [
    "df_data = []\n",
    "for item in ga_results.iterdir():\n",
    "    if item.suffix == \".json\":\n",
    "        df_data.append(parse_execution_data(item))\n",
    "\n",
    "df = pd.DataFrame(df_data, \n",
    "                  columns=['Name', 'Length', \"N Points\", \"Success\", \"OOB Score\", \"AVG Velocity\"])"
   ]
  },
  {
   "cell_type": "code",
   "execution_count": 56,
   "metadata": {},
   "outputs": [
    {
     "data": {
      "text/plain": [
       "<AxesSubplot:xlabel='index'>"
      ]
     },
     "execution_count": 56,
     "metadata": {},
     "output_type": "execute_result"
    },
    {
     "data": {
      "image/png": "[encoded data removed]",
      "text/plain": [
       "<Figure size 640x480 with 1 Axes>"
      ]
     },
     "metadata": {},
     "output_type": "display_data"
    }
   ],
   "source": [
    "# df = df.sort_values(\"OOB Score\")\n",
    "df.reset_index().plot(x='index', y='OOB Score')\n"
   ]
  },
  {
   "cell_type": "code",
   "execution_count": null,
   "metadata": {},
   "outputs": [],
   "source": []
  }
 ],
 "metadata": {
  "kernelspec": {
   "display_name": ".venv",
   "language": "python",
   "name": "python3"
  },
  "language_info": {
   "codemirror_mode": {
    "name": "ipython",
    "version": 3
   },
   "file_extension": ".py",
   "mimetype": "text/x-python",
   "name": "python",
   "nbconvert_exporter": "python",
   "pygments_lexer": "ipython3",
   "version": "3.7.9"
  },
  "orig_nbformat": 4
 },
 "nbformat": 4,
 "nbformat_minor": 2
}
